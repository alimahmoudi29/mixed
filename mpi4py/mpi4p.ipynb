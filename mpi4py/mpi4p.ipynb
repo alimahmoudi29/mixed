{
 "cells": [
  {
   "cell_type": "code",
   "execution_count": null,
   "metadata": {},
   "outputs": [],
   "source": [
    "from mpi4py import MPI\n"
   ]
  },
  {
   "cell_type": "markdown",
   "metadata": {},
   "source": [
    "# mpi4py: \n",
    "documentation: <https://mpi4py.readthedocs.io/en/stable/tutorial.html>\n",
    "\n",
    "youtube <https://www.youtube.com/watch?v=13x90STvKnQ&list=PLQVvvaa0QuDf9IW-fe6No8SCw-aVnCfRi&index=1>\n",
    "\n",
    "on hpc <http://johnfoster.pge.utexas.edu/HPC/course-mat/>"
   ]
  },
  {
   "cell_type": "code",
   "execution_count": null,
   "metadata": {},
   "outputs": [],
   "source": [
    "comm =  MPI.COMM_WORLD\n",
    "print(\"Hi my rank is %s\"%comm.rank)\n"
   ]
  },
  {
   "cell_type": "code",
   "execution_count": null,
   "metadata": {},
   "outputs": [],
   "source": [
    "if comm.rank ==0: \n",
    "    print(\"doing the task of rank 0\")\n",
    "if comm.rank ==1: \n",
    "    print(\"doing the task of rank 1\")\n",
    "if comm.rank ==2: \n",
    "    print(\"doing the task of rank 2\")"
   ]
  },
  {
   "cell_type": "code",
   "execution_count": null,
   "metadata": {},
   "outputs": [],
   "source": [
    "# how many nodes are in this system?\n",
    "size= comm.size\n",
    "rank  = comm.rank\n",
    "print(\"node count is %s\"%size)"
   ]
  },
  {
   "cell_type": "code",
   "execution_count": null,
   "metadata": {},
   "outputs": [],
   "source": [
    "%%file scp1.py\n",
    "#!/usr/bin/env python\n",
    "#name of the processor\n",
    "from mpi4py import MPI\n",
    "comm = MPI.COMM_WORLD\n",
    "name = MPI.Get_processor_name()\n",
    "shared = (comm.rank+1)*5\n",
    "\n",
    "# send the data to the other node. dest = size -rank\n",
    "if comm.rank ==0: \n",
    "    data = shared \n",
    "    comm.send(data,dest=  1)# destination, send it to dest 1, give me error as\n",
    "    print(\"from rank %s we senr %s\"%(comm.rank, data))\n",
    "    # I have only 0 rank. \n",
    "elif comm.rank == 1: \n",
    "    data = comm.recv(source =0)# recieve the data from rank 0 which is source.\n",
    "    print(\"on node%s we recieved %s\"%(comm.rank, data))"
   ]
  },
  {
   "cell_type": "code",
   "execution_count": null,
   "metadata": {},
   "outputs": [],
   "source": [
    "!mpiexec -n 2 python scp1.py"
   ]
  },
  {
   "cell_type": "code",
   "execution_count": null,
   "metadata": {},
   "outputs": [],
   "source": [
    "%%file tagging.py \n",
    "#!/usr/bin/env python\n",
    "# tagging: which one do you want to receive first? tagging.py \n",
    "from mpi4py import MPI\n",
    "comm = MPI.COMM_WORLD\n",
    "rank = comm.rank\n",
    "size = comm.size\n",
    "\n",
    "if rank ==0 :\n",
    "    shared =  {\"d1\":55, \"d2\":42}\n",
    "    comm.send(shared, dest=1, tag=1)\n",
    "    shared2= {\"d3\":25, \"d4\":22}\n",
    "    comm.send(shared2, dest=1, tag=2)\n",
    "if rank ==1 : \n",
    "    receive = comm.recv(source = 0, tag=2)\n",
    "    print(receive)\n",
    "    receive2= comm.recv(source =0 , tag=1)# we want to recieve it first\n",
    "    print(receive2)"
   ]
  },
  {
   "cell_type": "code",
   "execution_count": null,
   "metadata": {},
   "outputs": [],
   "source": [
    " ! mpiexec -n 2 python tagging.py "
   ]
  },
  {
   "cell_type": "code",
   "execution_count": null,
   "metadata": {},
   "outputs": [],
   "source": [
    "%%file bcast.py\n",
    "#!/usr/bin/env python\n",
    "# Broadcasting \n",
    "from mpi4py import MPI\n",
    "comm = MPI.COMM_WORLD\n",
    "rank= comm.rank\n",
    "\n",
    "if rank ==0: \n",
    "    data = {\"a\":1, \"b\":2, \"c\":3}\n",
    "else: data = None\n",
    "\n",
    "data = comm.bcast(data, root=0)\n",
    "print(\"rank: %s, data: %s\" %(rank, data))\n",
    "# mpiexec -n 2 python bcast.py"
   ]
  },
  {
   "cell_type": "code",
   "execution_count": null,
   "metadata": {},
   "outputs": [],
   "source": [
    "!mpiexec -n 2 python bcast.py"
   ]
  },
  {
   "cell_type": "code",
   "execution_count": null,
   "metadata": {},
   "outputs": [],
   "source": [
    "%%file scattering.py \n",
    "#!/usr/bin/env python\n",
    "# scatter : take the list(object) and send to each of the nodes\n",
    "\n",
    "from mpi4py import MPI \n",
    "\n",
    "comm = MPI.COMM_WORLD\n",
    "size = comm.Get_size()\n",
    "rank = comm.Get_rank()\n",
    "\n",
    "if rank ==0: \n",
    "    data = [(x+1)**x for x in range(size)]\n",
    "    print(\"we will be scaterrung %s\"% data)\n",
    "else: \n",
    "    data = None\n",
    "data = comm.scatter(data, root=0)\n",
    "print(\"rank %s has data %s\"%(rank, data))\n",
    "\n",
    "\n",
    "\n",
    "\n"
   ]
  },
  {
   "cell_type": "code",
   "execution_count": null,
   "metadata": {},
   "outputs": [],
   "source": [
    "!mpiexec -n 2 python scattering.py"
   ]
  },
  {
   "cell_type": "code",
   "execution_count": null,
   "metadata": {},
   "outputs": [],
   "source": [
    "%%file gathering.py \n",
    "#!/usr/bin/env python\n",
    "\n",
    "#gatter: gather all the objects\n",
    "from mpi4py import MPI \n",
    "\n",
    "comm = MPI.COMM_WORLD\n",
    "size = comm.Get_size()\n",
    "rank = comm.Get_rank()\n",
    "\n",
    "if rank ==0: \n",
    "    data = [(x+1)**x for x in range(size)]\n",
    "    print(\"we will be scaterrung %s\"% data)\n",
    "else: \n",
    "    data = None\n",
    "data = comm.scatter(data, root=0)\n",
    "print(\"rank %s has data %s\"%(rank, data))\n",
    "\n",
    "newData= comm.gather(data, root =0)# senf to node 0\n",
    "\n",
    "if rank==0: \n",
    "    print(\"master collected:%s\"%newData)\n",
    "\n",
    "# reduce: \n",
    "# scan: \n",
    "\n",
    "\n",
    "\n",
    "\n"
   ]
  },
  {
   "cell_type": "code",
   "execution_count": null,
   "metadata": {},
   "outputs": [],
   "source": [
    "!mpiexec -n 2 python gathering.py\n"
   ]
  },
  {
   "cell_type": "markdown",
   "metadata": {},
   "source": [
    "# write a file: \n",
    "the second line is saying that the file is a python file"
   ]
  },
  {
   "cell_type": "code",
   "execution_count": null,
   "metadata": {},
   "outputs": [],
   "source": [
    "%%file hello.py \n",
    "#!/usr/bin/env python\n",
    "from mpi4py import MPI\n",
    "comm = MPI.COMM_WORLD\n",
    "print(\"hell the rank is %s\"%comm.rank)"
   ]
  },
  {
   "cell_type": "code",
   "execution_count": null,
   "metadata": {},
   "outputs": [],
   "source": [
    "!mpiexec -np 2 python hello.py"
   ]
  },
  {
   "cell_type": "code",
   "execution_count": null,
   "metadata": {},
   "outputs": [],
   "source": []
  }
 ],
 "metadata": {
  "kernelspec": {
   "display_name": "Python 3",
   "language": "python3",
   "name": "python3"
  },
  "language_info": {
   "codemirror_mode": {
    "name": "ipython",
    "version": 3
   },
   "file_extension": ".py",
   "mimetype": "text/x-python",
   "name": "python",
   "nbconvert_exporter": "python",
   "pygments_lexer": "ipython3",
   "version": "3.6.4"
  }
 },
 "nbformat": 4,
 "nbformat_minor": 1
}
