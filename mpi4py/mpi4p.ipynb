{
 "cells": [
  {
   "cell_type": "code",
   "execution_count": 4,
   "metadata": {
    "collapsed": true
   },
   "outputs": [],
   "source": [
    "from mpi4py import MPI\n"
   ]
  },
  {
   "cell_type": "markdown",
   "metadata": {},
   "source": [
    "# mpi4py: \n",
    "documentation: <https://mpi4py.readthedocs.io/en/stable/tutorial.html>\n",
    "\n",
    "youtube <https://www.youtube.com/watch?v=13x90STvKnQ&list=PLQVvvaa0QuDf9IW-fe6No8SCw-aVnCfRi&index=1>\n",
    "\n",
    "on hpc <http://johnfoster.pge.utexas.edu/HPC/course-mat/>"
   ]
  },
  {
   "cell_type": "code",
   "execution_count": 5,
   "metadata": {
    "collapsed": true
   },
   "outputs": [
    {
     "name": "stdout",
     "output_type": "stream",
     "text": [
      "Hi my rank is 0\n"
     ]
    }
   ],
   "source": [
    "comm =  MPI.COMM_WORLD\n",
    "print(\"Hi my rank is %s\"%comm.rank)\n"
   ]
  },
  {
   "cell_type": "code",
   "execution_count": 6,
   "metadata": {
    "collapsed": true
   },
   "outputs": [
    {
     "name": "stdout",
     "output_type": "stream",
     "text": [
      "doing the task of rank 0\n"
     ]
    }
   ],
   "source": [
    "if comm.rank ==0: \n",
    "    print(\"doing the task of rank 0\")\n",
    "if comm.rank ==1: \n",
    "    print(\"doing the task of rank 1\")\n",
    "if comm.rank ==2: \n",
    "    print(\"doing the task of rank 2\")"
   ]
  },
  {
   "cell_type": "code",
   "execution_count": 7,
   "metadata": {
    "collapsed": true
   },
   "outputs": [
    {
     "name": "stdout",
     "output_type": "stream",
     "text": [
      "node count is 1\n"
     ]
    }
   ],
   "source": [
    "# how many nodes are in this system?\n",
    "size= comm.size\n",
    "rank  = comm.rank\n",
    "print(\"node count is %s\"%size)"
   ]
  },
  {
   "cell_type": "code",
   "execution_count": 9,
   "metadata": {
    "collapsed": true
   },
   "outputs": [
    {
     "ename": "Exception",
     "evalue": "Invalid rank, error stack:\nMPI_Send(159): MPI_Send(buf=0x7fd556f86ac0, count=5, MPI_BYTE, dest=1, tag=0, MPI_COMM_WORLD) failed\nMPI_Send(100): Invalid rank has value 1 but must be nonnegative and less than 1",
     "traceback": [
      "\u001b[0;31m---------------------------------------------------------------------------\u001b[0m",
      "\u001b[0;31mException\u001b[0m                                 Traceback (most recent call last)",
      "\u001b[0;32m<ipython-input-9-f9bf99d1bef3>\u001b[0m in \u001b[0;36m<module>\u001b[0;34m()\u001b[0m\n\u001b[1;32m      7\u001b[0m \u001b[0;32mif\u001b[0m \u001b[0mrank\u001b[0m \u001b[0;34m==\u001b[0m\u001b[0;36m0\u001b[0m\u001b[0;34m:\u001b[0m\u001b[0;34m\u001b[0m\u001b[0m\n\u001b[1;32m      8\u001b[0m     \u001b[0mdata\u001b[0m \u001b[0;34m=\u001b[0m \u001b[0mshared\u001b[0m\u001b[0;34m\u001b[0m\u001b[0m\n\u001b[0;32m----> 9\u001b[0;31m     \u001b[0mcomm\u001b[0m\u001b[0;34m.\u001b[0m\u001b[0msend\u001b[0m\u001b[0;34m(\u001b[0m\u001b[0mdata\u001b[0m\u001b[0;34m,\u001b[0m\u001b[0mdest\u001b[0m\u001b[0;34m=\u001b[0m  \u001b[0;36m1\u001b[0m\u001b[0;34m)\u001b[0m\u001b[0;31m# destination, send it to dest 1, give me error as\u001b[0m\u001b[0;34m\u001b[0m\u001b[0m\n\u001b[0m\u001b[1;32m     10\u001b[0m     \u001b[0mprint\u001b[0m\u001b[0;34m(\u001b[0m\u001b[0;34m\"from rank %s we senr %s\"\u001b[0m\u001b[0;34m%\u001b[0m\u001b[0;34m(\u001b[0m\u001b[0mrank\u001b[0m\u001b[0;34m,\u001b[0m \u001b[0mdata\u001b[0m\u001b[0;34m)\u001b[0m\u001b[0;34m)\u001b[0m\u001b[0;34m\u001b[0m\u001b[0m\n\u001b[1;32m     11\u001b[0m     \u001b[0;31m# I have only 0 rank.\u001b[0m\u001b[0;34m\u001b[0m\u001b[0;34m\u001b[0m\u001b[0m\n",
      "\u001b[0;32mmpi4py/MPI/Comm.pyx\u001b[0m in \u001b[0;36mmpi4py.MPI.Comm.send\u001b[0;34m()\u001b[0m\n",
      "\u001b[0;32mmpi4py/MPI/msgpickle.pxi\u001b[0m in \u001b[0;36mmpi4py.MPI.PyMPI_send\u001b[0;34m()\u001b[0m\n",
      "\u001b[0;31mException\u001b[0m: Invalid rank, error stack:\nMPI_Send(159): MPI_Send(buf=0x7fd556f86ac0, count=5, MPI_BYTE, dest=1, tag=0, MPI_COMM_WORLD) failed\nMPI_Send(100): Invalid rank has value 1 but must be nonnegative and less than 1"
     ],
     "output_type": "error"
    }
   ],
   "source": [
    "# DO not run here run in : scp1.py \n",
    "#name of the processor\n",
    "name = MPI.Get_processor_name()\n",
    "shared = (rank+1)*5\n",
    "\n",
    "# send the data to the other node. dest = size -rank\n",
    "if rank ==0: \n",
    "    data = shared \n",
    "    comm.send(data,dest=  1)# destination, send it to dest 1, give me error as\n",
    "    print(\"from rank %s we senr %s\"%(rank, data))\n",
    "    # I have only 0 rank. \n",
    "elif rank ==1: \n",
    "    data = comm.recv(source =0)# recieve the data from rank 0 which is source.\n",
    "    print(\"on node%s we recieved %s\"%(rank, data))"
   ]
  },
  {
   "cell_type": "code",
   "execution_count": 10,
   "metadata": {
    "collapsed": true
   },
   "outputs": [
    {
     "ename": "Exception",
     "evalue": "Invalid rank, error stack:\nMPI_Send(159): MPI_Send(buf=0x7fd556f8bfd0, count=30, MPI_BYTE, dest=1, tag=1, MPI_COMM_WORLD) failed\nMPI_Send(100): Invalid rank has value 1 but must be nonnegative and less than 1",
     "traceback": [
      "\u001b[0;31m---------------------------------------------------------------------------\u001b[0m",
      "\u001b[0;31mException\u001b[0m                                 Traceback (most recent call last)",
      "\u001b[0;32m<ipython-input-10-1a25decf8fbe>\u001b[0m in \u001b[0;36m<module>\u001b[0;34m()\u001b[0m\n\u001b[1;32m      8\u001b[0m \u001b[0;32mif\u001b[0m \u001b[0mrank\u001b[0m \u001b[0;34m==\u001b[0m\u001b[0;36m0\u001b[0m \u001b[0;34m:\u001b[0m\u001b[0;34m\u001b[0m\u001b[0m\n\u001b[1;32m      9\u001b[0m     \u001b[0mshared\u001b[0m \u001b[0;34m=\u001b[0m  \u001b[0;34m{\u001b[0m\u001b[0;34m\"d1\"\u001b[0m\u001b[0;34m:\u001b[0m\u001b[0;36m55\u001b[0m\u001b[0;34m,\u001b[0m \u001b[0;34m\"d2\"\u001b[0m\u001b[0;34m:\u001b[0m\u001b[0;36m42\u001b[0m\u001b[0;34m}\u001b[0m\u001b[0;34m\u001b[0m\u001b[0m\n\u001b[0;32m---> 10\u001b[0;31m     \u001b[0mcomm\u001b[0m\u001b[0;34m.\u001b[0m\u001b[0msend\u001b[0m\u001b[0;34m(\u001b[0m\u001b[0mshared\u001b[0m\u001b[0;34m,\u001b[0m \u001b[0mdest\u001b[0m\u001b[0;34m=\u001b[0m\u001b[0;36m1\u001b[0m\u001b[0;34m,\u001b[0m \u001b[0mtag\u001b[0m\u001b[0;34m=\u001b[0m\u001b[0;36m1\u001b[0m\u001b[0;34m)\u001b[0m\u001b[0;34m\u001b[0m\u001b[0m\n\u001b[0m\u001b[1;32m     11\u001b[0m     \u001b[0mshared2\u001b[0m\u001b[0;34m=\u001b[0m \u001b[0;34m{\u001b[0m\u001b[0;34m\"d3\"\u001b[0m\u001b[0;34m:\u001b[0m\u001b[0;36m25\u001b[0m\u001b[0;34m,\u001b[0m \u001b[0;34m\"d4\"\u001b[0m\u001b[0;34m:\u001b[0m\u001b[0;36m22\u001b[0m\u001b[0;34m}\u001b[0m\u001b[0;34m\u001b[0m\u001b[0m\n\u001b[1;32m     12\u001b[0m     \u001b[0mcomm\u001b[0m\u001b[0;34m.\u001b[0m\u001b[0msend\u001b[0m\u001b[0;34m(\u001b[0m\u001b[0mshared2\u001b[0m\u001b[0;34m,\u001b[0m \u001b[0mdest\u001b[0m\u001b[0;34m=\u001b[0m\u001b[0;36m1\u001b[0m\u001b[0;34m,\u001b[0m \u001b[0mtag\u001b[0m\u001b[0;34m=\u001b[0m\u001b[0;36m2\u001b[0m\u001b[0;34m)\u001b[0m\u001b[0;34m\u001b[0m\u001b[0m\n",
      "\u001b[0;32mmpi4py/MPI/Comm.pyx\u001b[0m in \u001b[0;36mmpi4py.MPI.Comm.send\u001b[0;34m()\u001b[0m\n",
      "\u001b[0;32mmpi4py/MPI/msgpickle.pxi\u001b[0m in \u001b[0;36mmpi4py.MPI.PyMPI_send\u001b[0;34m()\u001b[0m\n",
      "\u001b[0;31mException\u001b[0m: Invalid rank, error stack:\nMPI_Send(159): MPI_Send(buf=0x7fd556f8bfd0, count=30, MPI_BYTE, dest=1, tag=1, MPI_COMM_WORLD) failed\nMPI_Send(100): Invalid rank has value 1 but must be nonnegative and less than 1"
     ],
     "output_type": "error"
    }
   ],
   "source": [
    "# tagging: which one do you want to receive first? tagging.py \n",
    "from mpi4py import MPI\n",
    "\n",
    "comm = MPI.COMM_WORLD\n",
    "rank = comm.rank\n",
    "size = comm.size\n",
    "\n",
    "if rank ==0 :\n",
    "    shared =  {\"d1\":55, \"d2\":42}\n",
    "    comm.send(shared, dest=1, tag=1)\n",
    "    shared2= {\"d3\":25, \"d4\":22}\n",
    "    comm.send(shared2, dest=1, tag=2)\n",
    "if rank ==1 : \n",
    "    receive = comm.recv(source = 0, tag=2)\n",
    "    print(receive)\n",
    "    receive2= comm.recv(source =0 , tag=1)# we want to recieve it first\n",
    "    print(receive2)"
   ]
  },
  {
   "cell_type": "code",
   "execution_count": null,
   "metadata": {},
   "outputs": [],
   "source": [
    " # Broadcasting \n",
    "comm = MPI.COMM_WORLD\n",
    "rank= comm.rank\n",
    "\n",
    "if rank ==0: \n",
    "    data = {\"a\":1, \"b\":2, \"c\":3}\n",
    "else: data = None\n",
    "\n",
    "data = comm.bcast(data, root=0)\n",
    "print(\"rank: %s, data: %s\" %(rank, data))\n",
    "# mpiexec -n 2 python bcast.py"
   ]
  },
  {
   "cell_type": "code",
   "execution_count": null,
   "metadata": {},
   "outputs": [],
   "source": [
    "# scatter : take the list(object) and send to each of the nodes\n",
    "\n",
    "\n",
    "from mpi4py import MPI \n",
    "\n",
    "comm = MPI.COMM_WORLD\n",
    "size = comm.Get_size()\n",
    "rank = comm.Get_rank()\n",
    "\n",
    "if rank ==0: \n",
    "    data = [(x+1)**x for x in range(size)]\n",
    "    print(\"we will be scaterrung %s\"% data)\n",
    "else: \n",
    "    data = None\n",
    "data = comm.scatter(data, root=0)\n",
    "print(\"rank %s has data %s\"%(rank, data))\n",
    "\n",
    "\n",
    "\n",
    "\n"
   ]
  },
  {
   "cell_type": "code",
   "execution_count": null,
   "metadata": {},
   "outputs": [],
   "source": [
    "#gatter: gather all the objects\n",
    "\n",
    "from mpi4py import MPI \n",
    "\n",
    "comm = MPI.COMM_WORLD\n",
    "size = comm.Get_size()\n",
    "rank = comm.Get_rank()\n",
    "\n",
    "if rank ==0: \n",
    "    data = [(x+1)**x for x in range(size)]\n",
    "    print(\"we will be scaterrung %s\"% data)\n",
    "else: \n",
    "    data = None\n",
    "data = comm.scatter(data, root=0)\n",
    "print(\"rank %s has data %s\"%(rank, data))\n",
    "\n",
    "newData= comm.gather(data, root =0)# senf to node 0\n",
    "\n",
    "if rank==0: \n",
    "    print(\"master collected:%s\"%newData)\n",
    "\n",
    "# reduce: \n",
    "# scan: \n",
    "\n",
    "\n",
    "\n",
    "\n"
   ]
  },
  {
   "cell_type": "markdown",
   "metadata": {},
   "source": [
    "# write a file: \n",
    "the second line is saying that the file is a python file"
   ]
  },
  {
   "cell_type": "code",
   "execution_count": 30,
   "metadata": {},
   "outputs": [
    {
     "name": "stdout",
     "output_type": "stream",
     "text": [
      "Overwriting hello.py\n"
     ]
    }
   ],
   "source": [
    "%%file hello.py \n",
    "#!/usr/bin/env python\n",
    "from mpi4py import MPI\n",
    "comm = MPI.COMM_WORLD\n",
    "print(\"hell the rank is %s\"%comm.rank)\n",
    "\n",
    "\n",
    "\n",
    "\n",
    "\n"
   ]
  },
  {
   "cell_type": "code",
   "execution_count": 31,
   "metadata": {
    "collapsed": false
   },
   "outputs": [
    {
     "name": "stdout",
     "output_type": "stream",
     "text": [
      "hell the rank is 0\r\nhell the rank is 0\r\n"
     ]
    }
   ],
   "source": [
    "!mpiexec -np 2 python hello.py"
   ]
  },
  {
   "cell_type": "code",
   "execution_count": null,
   "metadata": {},
   "outputs": [],
   "source": []
  }
 ],
 "metadata": {
  "kernelspec": {
   "display_name": "Python 2",
   "language": "python",
   "name": "python2"
  },
  "language_info": {
   "codemirror_mode": {
    "name": "ipython",
    "version": 2
   },
   "file_extension": ".py",
   "mimetype": "text/x-python",
   "name": "python",
   "nbconvert_exporter": "python",
   "pygments_lexer": "ipython2",
   "version": "2.7.6"
  }
 },
 "nbformat": 4,
 "nbformat_minor": 0
}
