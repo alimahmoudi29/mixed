{
 "cells": [
  {
   "cell_type": "markdown",
   "metadata": {
    "collapsed": true
   },
   "source": [
    "# mpi4py"
   ]
  },
  {
   "cell_type": "code",
   "execution_count": 1,
   "metadata": {},
   "outputs": [],
   "source": [
    "\n",
    "import sys\n",
    "sys.path.append(\"/Users/amahmoudi/myprojects/myenv_python3/lib/python3.6\")#(\"/usr/local/lib/python3.6/dist-packages\")"
   ]
  },
  {
   "cell_type": "code",
   "execution_count": 5,
   "metadata": {},
   "outputs": [
    {
     "name": "stdout",
     "output_type": "stream",
     "text": [
      "Solving environment: done\n",
      "\n",
      "## Package Plan ##\n",
      "\n",
      "  environment location: /anaconda3\n",
      "\n",
      "  added / updated specs: \n",
      "    - mpi4py\n",
      "\n",
      "\n",
      "The following packages will be downloaded:\n",
      "\n",
      "    package                    |            build\n",
      "    ---------------------------|-----------------\n",
      "    openssl-1.0.2p             |       h470a237_1         2.9 MB  conda-forge\n",
      "    ca-certificates-2018.11.29 |       ha4d7672_0         143 KB  conda-forge\n",
      "    mpi-1.0                    |          openmpi           4 KB  conda-forge\n",
      "    conda-4.5.11               |        py36_1000         651 KB  conda-forge\n",
      "    certifi-2018.11.29         |        py36_1000         145 KB  conda-forge\n",
      "    mpi4py-3.0.0               |   py36h10701c6_4         659 KB  conda-forge\n",
      "    openmpi-3.1.3              |       h26a2512_0         2.6 MB  conda-forge\n",
      "    ------------------------------------------------------------\n",
      "                                           Total:         7.0 MB\n",
      "\n",
      "The following NEW packages will be INSTALLED:\n",
      "\n",
      "    mpi:             1.0-openmpi           conda-forge\n",
      "    mpi4py:          3.0.0-py36h10701c6_4  conda-forge\n",
      "    openmpi:         3.1.3-h26a2512_0      conda-forge\n",
      "\n",
      "The following packages will be UPDATED:\n",
      "\n",
      "    ca-certificates: 2017.08.26-ha1e5d58_0             --> 2018.11.29-ha4d7672_0 conda-forge\n",
      "    certifi:         2018.1.18-py36_0      conda-forge --> 2018.11.29-py36_1000  conda-forge\n",
      "    conda:           4.5.0-py36_0          conda-forge --> 4.5.11-py36_1000      conda-forge\n",
      "    openssl:         1.0.2n-hdbc3d79_0                 --> 1.0.2p-h470a237_1     conda-forge\n",
      "\n",
      "Proceed ([y]/n)? ^C\n"
     ]
    }
   ],
   "source": [
    "! conda install mpi4py"
   ]
  },
  {
   "cell_type": "code",
   "execution_count": 6,
   "metadata": {},
   "outputs": [
    {
     "ename": "ImportError",
     "evalue": "No module named mpi4py",
     "output_type": "error",
     "traceback": [
      "\u001b[0;31m---------------------------------------------------------------------------\u001b[0m",
      "\u001b[0;31mImportError\u001b[0m                               Traceback (most recent call last)",
      "\u001b[0;32m<ipython-input-6-0fda0b379bd9>\u001b[0m in \u001b[0;36m<module>\u001b[0;34m()\u001b[0m\n\u001b[0;32m----> 1\u001b[0;31m \u001b[0;32mimport\u001b[0m \u001b[0mmpi4py\u001b[0m\u001b[0;34m\u001b[0m\u001b[0m\n\u001b[0m",
      "\u001b[0;31mImportError\u001b[0m: No module named mpi4py"
     ]
    }
   ],
   "source": [
    "import mpi4py"
   ]
  },
  {
   "cell_type": "code",
   "execution_count": null,
   "metadata": {},
   "outputs": [],
   "source": []
  }
 ],
 "metadata": {
  "kernelspec": {
   "display_name": "Python 2",
   "language": "python",
   "name": "python2"
  },
  "language_info": {
   "codemirror_mode": {
    "name": "ipython",
    "version": 2
   },
   "file_extension": ".py",
   "mimetype": "text/x-python",
   "name": "python",
   "nbconvert_exporter": "python",
   "pygments_lexer": "ipython2",
   "version": "2.7.13"
  }
 },
 "nbformat": 4,
 "nbformat_minor": 1
}
